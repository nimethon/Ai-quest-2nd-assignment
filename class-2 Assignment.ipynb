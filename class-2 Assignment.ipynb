{
 "cells": [
  {
   "cell_type": "markdown",
   "id": "2e34f27e",
   "metadata": {},
   "source": [
    "# variables "
   ]
  },
  {
   "cell_type": "code",
   "execution_count": 10,
   "id": "2a268054",
   "metadata": {},
   "outputs": [
    {
     "name": "stdout",
     "output_type": "stream",
     "text": [
      "x= 7\n",
      "y = 5\n"
     ]
    }
   ],
   "source": [
    "#1. Write a program that swaps the values of two variables.\n",
    "\n",
    "\n",
    "x=5\n",
    "y=7\n",
    "temp=x\n",
    "x=y\n",
    "y=temp\n",
    "print(\"x=\", x)\n",
    "print(\"y =\", y)\n"
   ]
  },
  {
   "cell_type": "code",
   "execution_count": 42,
   "id": "24950182",
   "metadata": {},
   "outputs": [
    {
     "name": "stdout",
     "output_type": "stream",
     "text": [
      "give a ractangular length=6\n",
      "give a ractangular width=8\n",
      "area value= 48\n"
     ]
    }
   ],
   "source": [
    "#2 a program that calculates the area of a rectangle given its length and width.\n",
    "\n",
    "\n",
    "x= int(input('give a ractangular length='))\n",
    "y=int(input('give a ractangular width='))\n",
    "def area_func():\n",
    "    area=x*y\n",
    "    print('area value=',area)\n",
    "area_func()"
   ]
  },
  {
   "cell_type": "code",
   "execution_count": 44,
   "id": "c80b3306",
   "metadata": {},
   "outputs": [
    {
     "name": "stdout",
     "output_type": "stream",
     "text": [
      "give a ractangular length=7\n",
      "give a ractangular width=8\n",
      "area value= 56\n"
     ]
    }
   ],
   "source": [
    "x= int(input('give a ractangular length='))\n",
    "y=int(input('give a ractangular width='))\n",
    "area=x*y\n",
    "print('area value=',area)"
   ]
  },
  {
   "cell_type": "code",
   "execution_count": 45,
   "id": "ea04d755",
   "metadata": {},
   "outputs": [
    {
     "name": "stdout",
     "output_type": "stream",
     "text": [
      "give a temperature in Celsius=60\n",
      "your temperature in fahrenheit= 140.0\n"
     ]
    }
   ],
   "source": [
    "#3. Write a program that converts temperature from Celsius to Fahrenheit.\n",
    "\n",
    "\n",
    "x= int(input('give a temperature in Celsius='))\n",
    "fahrenheit = (9*x/5)+32\n",
    "print('your temperature in fahrenheit=',fahrenheit)"
   ]
  },
  {
   "cell_type": "code",
   "execution_count": 48,
   "id": "08afd745",
   "metadata": {},
   "outputs": [
    {
     "name": "stdout",
     "output_type": "stream",
     "text": [
      "Enter the radius of the sphere=50\n",
      "the volume of a sphere is= 523598.7755982988\n"
     ]
    }
   ],
   "source": [
    "#4. Write a program that calculates the volume of a sphere given its radius.\n",
    "\n",
    "import math\n",
    "radius= float (input('Enter the radius of the sphere='))\n",
    "volume=(4/3)*math.pi* radius ** 3\n",
    "print('the volume of a sphere is=',volume)"
   ]
  },
  {
   "cell_type": "code",
   "execution_count": 106,
   "id": "7b970850",
   "metadata": {},
   "outputs": [
    {
     "name": "stdout",
     "output_type": "stream",
     "text": [
      "Enter the radius of the sphere: 34\n",
      "The volume of the sphere is: 164636.21020892428\n"
     ]
    }
   ],
   "source": [
    "import math\n",
    "\n",
    "def sphere_volume(radius):\n",
    "  volumes = (4 / 3) * math.pi * radius ** 3\n",
    "  return volumes\n",
    "\n",
    "take_radius= float(input(\"Enter the radius of the sphere: \"))\n",
    "volume = sphere_volume(take_radius)\n",
    "print(\"The volume of the sphere is:\", volume)\n"
   ]
  },
  {
   "cell_type": "code",
   "execution_count": 52,
   "id": "6e442e73",
   "metadata": {},
   "outputs": [
    {
     "name": "stdout",
     "output_type": "stream",
     "text": [
      "Enter 1st number=20\n",
      "Enter 2nd number=30\n",
      "Enter 3rd number=56\n",
      "the avg of three numbers= 35.333333333333336\n"
     ]
    }
   ],
   "source": [
    "#5. Write a program that finds the average of three numbers.\n",
    "\n",
    "\n",
    "x= float(input('Enter 1st number='))\n",
    "y= float(input('Enter 2nd number='))\n",
    "z= float(input('Enter 3rd number='))\n",
    "avg=(x+y+z)/3\n",
    "print('the avg of three numbers=',avg)"
   ]
  },
  {
   "cell_type": "markdown",
   "id": "d7855699",
   "metadata": {},
   "source": [
    "# If-elif-else"
   ]
  },
  {
   "cell_type": "code",
   "execution_count": 53,
   "id": "ee740c61",
   "metadata": {},
   "outputs": [
    {
     "name": "stdout",
     "output_type": "stream",
     "text": [
      "Enter a number: 30\n",
      "30 is even\n"
     ]
    }
   ],
   "source": [
    "#6. Write a program that determines if a number is even or odd.\n",
    "\n",
    "num = int(input('Enter a number: '))\n",
    "if (num % 2) == 0:\n",
    "    print(num, \"is even\")\n",
    "else:\n",
    "    print(num, \"is odd\")\n"
   ]
  },
  {
   "cell_type": "code",
   "execution_count": 55,
   "id": "148fe6c8",
   "metadata": {},
   "outputs": [
    {
     "name": "stdout",
     "output_type": "stream",
     "text": [
      "enter 1st number: 20\n",
      "enter 2nd number: 34\n",
      "enter 3rd number: 56\n",
      "largest number is:  56\n"
     ]
    }
   ],
   "source": [
    "#7. Write a program that finds the maximum of three numbers.\n",
    "\n",
    "num1= int(input('enter 1st number: '))\n",
    "num2= int(input('enter 2nd number: '))\n",
    "num3= int(input('enter 3rd number: '))\n",
    "if num1>=num2 and num1>=num3:\n",
    "    largest= num1\n",
    "elif num2>=num1 and num2>=num3:\n",
    "    largest=num2\n",
    "else:\n",
    "    largest=num3\n",
    "print('largest number is: ',largest)\n"
   ]
  },
  {
   "cell_type": "code",
   "execution_count": 75,
   "id": "e8d21d75",
   "metadata": {},
   "outputs": [
    {
     "name": "stdout",
     "output_type": "stream",
     "text": [
      "enter a year: 2012\n",
      "2012 a leap year\n"
     ]
    }
   ],
   "source": [
    "#8. Write a program that determines if a year is a leap year or not.\n",
    "\n",
    "        \n",
    "    # a year is divisible by 4 is a whole number.so, it is a leap year\n",
    "        # If a year is not divisible by 100 or divisible by 400, then it is a leap year.\n",
    "year= int(input('enter a year: '))\n",
    "if year % 4 == 0 and year % 100!=0 or year%400==0:\n",
    "    print(year ,'a leap year')\n",
    "else:\n",
    "    print(year, 'not a leap year')"
   ]
  },
  {
   "cell_type": "code",
   "execution_count": 59,
   "id": "9dec4a4d",
   "metadata": {},
   "outputs": [
    {
     "name": "stdout",
     "output_type": "stream",
     "text": [
      "1900 is not a leap year\n"
     ]
    }
   ],
   "source": [
    "def is_leap_year(year):\n",
    "    if (year % 4 == 0) and (year % 100 != 0 or year % 400 == 0):\n",
    "        return True\n",
    "    else:\n",
    "        return False\n",
    "    \n",
    "current_year = 1900\n",
    "if is_leap_year(current_year):\n",
    "    print(current_year, \"is a leap year\")\n",
    "else:\n",
    "    print(current_year, \"is not a leap year\")\n"
   ]
  },
  {
   "cell_type": "code",
   "execution_count": 79,
   "id": "0079b851",
   "metadata": {},
   "outputs": [
    {
     "name": "stdout",
     "output_type": "stream",
     "text": [
      "type a number: 0\n",
      "0.0 this is zero\n"
     ]
    }
   ],
   "source": [
    "#9 Write a program that determines if a number is positive, negative, or zero.\n",
    "\n",
    "x= float(input('type a number: '))\n",
    "if x>0:\n",
    "    print(x, 'a positive number')\n",
    "elif x==0:\n",
    "    print(x,'this is zero')\n",
    "else:\n",
    "    print(x, 'a negative number')"
   ]
  },
  {
   "cell_type": "code",
   "execution_count": 145,
   "id": "6bee384a",
   "metadata": {},
   "outputs": [
    {
     "name": "stdout",
     "output_type": "stream",
     "text": [
      "please submit your exam's mark:70\n",
      "your grade for 70.0 is C\n"
     ]
    }
   ],
   "source": [
    "#10. Write a program that calculates the grade based on a given percentage\n",
    "\n",
    "def grade_calculator(number):\n",
    "    if number >= 90:\n",
    "        grade = 'A'\n",
    "    elif number >= 80:\n",
    "        grade = 'B'\n",
    "    elif number >= 70:\n",
    "        grade = 'C'\n",
    "    elif number >= 60:\n",
    "        grade = 'D'\n",
    "    else:\n",
    "        grade = 'F'\n",
    "    return grade\n",
    "#upper part a machine, lower part is user value\n",
    "\n",
    "expnumber = float(input(\"please submit your exam's mark:\",))\n",
    "expgrade=grade_calculator(expnumber)\n",
    "print(\"your grade for\",expnumber, 'is',expgrade)\n",
    "    "
   ]
  },
  {
   "cell_type": "markdown",
   "id": "9c90b363",
   "metadata": {},
   "source": [
    "# For Loop\n"
   ]
  },
  {
   "cell_type": "markdown",
   "id": "9ee49b59",
   "metadata": {},
   "source": [
    "11. Write a program that prints the first 'n' natural numbers"
   ]
  },
  {
   "cell_type": "code",
   "execution_count": 20,
   "id": "c044dacc",
   "metadata": {},
   "outputs": [
    {
     "name": "stdout",
     "output_type": "stream",
     "text": [
      "1\n",
      "2\n",
      "3\n",
      "4\n"
     ]
    }
   ],
   "source": [
    "\n",
    "\n",
    "\n",
    "def natural_number(n):\n",
    "    for i in range (1, n+1): # end n-1 so, n obdi dekhar jonno n+1\n",
    "        print(i)  \n",
    "natural_number(4)\n",
    "\n"
   ]
  },
  {
   "cell_type": "markdown",
   "id": "4db08d64",
   "metadata": {},
   "source": [
    "12. Write a program that calculates the factorial of a number."
   ]
  },
  {
   "cell_type": "code",
   "execution_count": 153,
   "id": "7af6fc4b",
   "metadata": {},
   "outputs": [
    {
     "name": "stdout",
     "output_type": "stream",
     "text": [
      "please enter a number7\n",
      "your type 7 is factorial 5040\n"
     ]
    }
   ],
   "source": [
    "\n",
    "\n",
    "def facturial_number(n):\n",
    "    total=1\n",
    "    for i in range(1,n+1):\n",
    "        total= total*i\n",
    "        #print(total) to shown every step\n",
    "    #print(total) to shown factorial here\n",
    "    return total\n",
    "    \n",
    " #for user wishes   \n",
    "x=int(input('please enter a number'))\n",
    "mine=facturial_number(x)\n",
    "print('your type',x,'is factorial',mine)\n",
    "\n",
    "    \n"
   ]
  },
  {
   "cell_type": "markdown",
   "id": "ee1a3d58",
   "metadata": {},
   "source": [
    "13. Write a program that generates a Fibonacci sequence of length 'n"
   ]
  },
  {
   "cell_type": "code",
   "execution_count": 168,
   "id": "72eb56a1",
   "metadata": {},
   "outputs": [
    {
     "name": "stdout",
     "output_type": "stream",
     "text": [
      "Enter the length of the Fibonacci sequence: 2\n",
      "The Fibonacci sequence of length 2 is: [0, 1]\n"
     ]
    }
   ],
   "source": [
    "\n",
    "import math\n",
    "def fibonacci(n):\n",
    "  if n == 0:\n",
    "    return 0\n",
    "  elif n == 1:\n",
    "    return 1\n",
    "\n",
    "  # Initialize the first two Fibonacci numbers\n",
    "  first_num = 0\n",
    "  second_num = 1\n",
    "\n",
    "  # Generate the Fibonacci sequence up to n terms\n",
    "  for i in range(2, n + 1):\n",
    "    next_num = first_num + second_num\n",
    "    first_num = second_num\n",
    "    second_num = next_num\n",
    "  return next_num\n",
    "\n",
    "# Get the length of the Fibonacci sequence from the user\n",
    "n = int(input(\"Enter the length of the Fibonacci sequence: \"))\n",
    "\n",
    "# Generate the Fibonacci sequence of length n\n",
    "fibonacci_sequence = []\n",
    "for i in range(n):\n",
    "  fibonacci_sequence.append(fibonacci(i))\n",
    "\n",
    "# Print the Fibonacci sequence\n",
    "print(\"The Fibonacci sequence of length\", n, \"is:\", fibonacci_sequence)\n",
    "\n",
    "\n"
   ]
  },
  {
   "cell_type": "code",
   "execution_count": 85,
   "id": "99f6597b",
   "metadata": {},
   "outputs": [
    {
     "name": "stdout",
     "output_type": "stream",
     "text": [
      "0\n",
      "1\n",
      "1\n",
      "2\n",
      "3\n"
     ]
    }
   ],
   "source": [
    "def fibonacci(n):\n",
    "    if n == 0:\n",
    "        return 0\n",
    "    elif n == 1:\n",
    "        return 1\n",
    "    else:\n",
    "        return fibonacci(n - 1) + fibonacci(n - 2)\n",
    "\n",
    "# Generate the Fibonacci sequence up to n = 10\n",
    "for i in range(5):\n",
    "    print(fibonacci(i))\n"
   ]
  },
  {
   "cell_type": "markdown",
   "id": "8ed212e6",
   "metadata": {},
   "source": [
    "14. Write a program that checks if a given number is prime or not."
   ]
  },
  {
   "cell_type": "code",
   "execution_count": 58,
   "id": "188acb83",
   "metadata": {},
   "outputs": [
    {
     "name": "stdout",
     "output_type": "stream",
     "text": [
      "4 is not a prime number\n"
     ]
    }
   ],
   "source": [
    "\n",
    "num =3\n",
    "# If given number is greater than 1\n",
    "if num > 1:\n",
    "# Iterate from 2 to n / 2\n",
    "    for i in range(2, int(num/2)+1):\n",
    "# If num is divisible by any number between\n",
    "# 2 and n / 2, it is not prime\n",
    "        if (num % i) == 0:\n",
    "            print(num, \"is not a prime number\")\n",
    "            break\n",
    "    else:\n",
    "        print(num, \"is a prime number\")\n",
    "else:\n",
    "    print(num, \"is not a prime number\")"
   ]
  },
  {
   "cell_type": "code",
   "execution_count": 67,
   "id": "6016df18",
   "metadata": {},
   "outputs": [
    {
     "name": "stdout",
     "output_type": "stream",
     "text": [
      "2 is a prime number\n"
     ]
    }
   ],
   "source": [
    "num=2\n",
    "if num>1:\n",
    "#if num is devisible by any number btn 2 & num-1, its not a prime number\n",
    "    for i in range (2, num):\n",
    "        if (num % i) == 0:\n",
    "            print(num, 'is not a prime number')\n",
    "            break\n",
    "    else:\n",
    "        print(num,'is a prime number')\n",
    "    \n",
    "else:\n",
    "    print(num,'is not a prime number')"
   ]
  },
  {
   "cell_type": "markdown",
   "id": "d2fc7d0b",
   "metadata": {},
   "source": [
    "15. Write a program that prints the multiplication table of a given number."
   ]
  },
  {
   "cell_type": "code",
   "execution_count": 90,
   "id": "c12fa1bd",
   "metadata": {},
   "outputs": [
    {
     "name": "stdout",
     "output_type": "stream",
     "text": [
      "5 x 1 = 5\n",
      "5 x 2 = 10\n",
      "5 x 3 = 15\n",
      "5 x 4 = 20\n",
      "5 x 5 = 25\n",
      "5 x 6 = 30\n",
      "5 x 7 = 35\n",
      "5 x 8 = 40\n",
      "5 x 9 = 45\n",
      "5 x 10 = 50\n"
     ]
    }
   ],
   "source": [
    "n = 5\n",
    "for i in range(1, 11):\n",
    "    print(n, 'x', i, '=', n * i)\n"
   ]
  },
  {
   "cell_type": "markdown",
   "id": "0ee971da",
   "metadata": {},
   "source": [
    "# While Loop"
   ]
  },
  {
   "cell_type": "markdown",
   "id": "35922354",
   "metadata": {},
   "source": [
    "16. Write a program that finds the sum of all even numbers between 1 and `n`"
   ]
  },
  {
   "cell_type": "code",
   "execution_count": 164,
   "id": "d839b1bf",
   "metadata": {},
   "outputs": [
    {
     "name": "stdout",
     "output_type": "stream",
     "text": [
      "0\n"
     ]
    }
   ],
   "source": [
    "def sum_even_numbers(n):\n",
    "  sum = 0\n",
    "  num = 1\n",
    "  while num <= n:\n",
    "    if num % 2 == 0:\n",
    "      sum += num\n",
    "    num += 1\n",
    "  return sum\n",
    "\n",
    "# Get the sum of even numbers between 1 and 10\n",
    "sum = sum_even_numbers(1)\n",
    "print(sum)"
   ]
  },
  {
   "cell_type": "code",
   "execution_count": 167,
   "id": "b8f23a1f",
   "metadata": {},
   "outputs": [
    {
     "name": "stdout",
     "output_type": "stream",
     "text": [
      "2\n"
     ]
    }
   ],
   "source": [
    "n=2\n",
    "sum=0\n",
    "num=1\n",
    "while num<=n:\n",
    "    if num % 2 == 0:\n",
    "        sum= sum+num #1st step sum hoilo 1 , 2nd step 2   \n",
    "    num=num+1 # 2nd step num 2 so num=num+1= 3 ja sorto full fill kore na so ager sum=2 print\n",
    "print(sum)\n",
    "    "
   ]
  },
  {
   "cell_type": "markdown",
   "id": "d273f36d",
   "metadata": {},
   "source": [
    "17. Write a program that reverses a given number "
   ]
  },
  {
   "cell_type": "code",
   "execution_count": 25,
   "id": "4b5a7e97",
   "metadata": {},
   "outputs": [
    {
     "name": "stdout",
     "output_type": "stream",
     "text": [
      "give a number for revers: 56\n",
      "reversed number 65\n"
     ]
    }
   ],
   "source": [
    "x= int(input('give a number for revers: '))\n",
    "reversed_number = 0\n",
    "while x > 0:\n",
    "    last_digit = x % 10\n",
    "    reversed_number = (reversed_number * 10) + last_digit\n",
    "    x = x // 10\n",
    "print('reversed number',reversed_number)\n",
    "    "
   ]
  },
  {
   "cell_type": "code",
   "execution_count": 32,
   "id": "04d56a52",
   "metadata": {},
   "outputs": [
    {
     "data": {
      "text/plain": [
       "6"
      ]
     },
     "execution_count": 32,
     "metadata": {},
     "output_type": "execute_result"
    }
   ],
   "source": [
    "0*10+6 #1st step -> reversed_number= 6"
   ]
  },
  {
   "cell_type": "code",
   "execution_count": 33,
   "id": "ed3a2faa",
   "metadata": {},
   "outputs": [
    {
     "data": {
      "text/plain": [
       "5"
      ]
     },
     "execution_count": 33,
     "metadata": {},
     "output_type": "execute_result"
    }
   ],
   "source": [
    "56 // 10 #now the input x is = 5"
   ]
  },
  {
   "cell_type": "markdown",
   "id": "421644c7",
   "metadata": {},
   "source": [
    "5%10 #from the x=x//10 means, x input 56 so x= 56//10"
   ]
  },
  {
   "cell_type": "code",
   "execution_count": 35,
   "id": "0cd4428c",
   "metadata": {},
   "outputs": [
    {
     "data": {
      "text/plain": [
       "65"
      ]
     },
     "execution_count": 35,
     "metadata": {},
     "output_type": "execute_result"
    }
   ],
   "source": [
    "6*10 +5 #this is the answer"
   ]
  },
  {
   "cell_type": "markdown",
   "id": "b3595730",
   "metadata": {},
   "source": [
    "18. Write a program that checks if a given string is a palindrome\n"
   ]
  },
  {
   "cell_type": "code",
   "execution_count": 51,
   "id": "a786d3fb",
   "metadata": {},
   "outputs": [
    {
     "data": {
      "text/plain": [
       "'namaN'"
      ]
     },
     "execution_count": 51,
     "metadata": {},
     "output_type": "execute_result"
    }
   ],
   "source": [
    "str='Naman'\n",
    "str[::-1] #1st value and end value escape kore jodi step value -1 kori tahole sob reverse hbe "
   ]
  },
  {
   "cell_type": "code",
   "execution_count": 52,
   "id": "56655fc3",
   "metadata": {},
   "outputs": [
    {
     "name": "stdout",
     "output_type": "stream",
     "text": [
      "enter a string:madam\n",
      "your string is palindrome..\n"
     ]
    }
   ],
   "source": [
    "orginal=input('enter a string:')\n",
    "reverse=orginal[::-1]\n",
    "if orginal==reverse:\n",
    "    print('your string is palindrome..')\n",
    "else:\n",
    "    print(\"your string is not palindrome\")"
   ]
  },
  {
   "cell_type": "code",
   "execution_count": 1,
   "id": "4b3625c3",
   "metadata": {},
   "outputs": [
    {
     "name": "stdout",
     "output_type": "stream",
     "text": [
      "enter a string:hello\n",
      "your string is not palindrome\n"
     ]
    }
   ],
   "source": [
    "#method 2\n",
    "orginal=input('enter a string:')\n",
    "reverse=''\n",
    "for i in range(len(orginal)-1,-1,-1):  #start,end,stepValue\n",
    "    reverse= reverse+orginal[i]\n",
    "if orginal==reverse:\n",
    "    print('your string is palindrome..')\n",
    "else:\n",
    "    print(\"your string is not palindrome\")\n",
    "       \n",
    "    \n",
    "    '''s= 'm a d'\n",
    "index     0 1 2\n",
    "len holo 3 but d ke anar jonno position drkr 2 so len(orginal)-1, -1 karon 0 position e jete hbe , ar -1 kore kombe \n",
    "R= '' + '2' i er value len=3 so  3-1=2 means d\n",
    "R='' + 'd' = 'd'\n",
    "\n",
    "R='d'+'a'  new reverse d and i er value 2-1=1 means a\n",
    "R='da'\n",
    "\n",
    "R='da'+'m' new reverse da and i er value 1-1=0 means m\n",
    "R='dam' \n",
    "'''\n"
   ]
  },
  {
   "cell_type": "code",
   "execution_count": 2,
   "id": "b1dbe288",
   "metadata": {},
   "outputs": [],
   "source": [
    "def is_palindrome(str): \n",
    "    start = 0\n",
    "    end = len(str) - 1\n",
    "    while start <= end:\n",
    "        if str[start] != str[end]:\n",
    "            return False\n",
    "        start += 1\n",
    "        end -= 1\n",
    "    return True\n"
   ]
  },
  {
   "cell_type": "markdown",
   "id": "13f84fec",
   "metadata": {},
   "source": [
    "palindrome mane holo orginal and reverse equal hobe."
   ]
  },
  {
   "cell_type": "code",
   "execution_count": 36,
   "id": "48d2c104",
   "metadata": {},
   "outputs": [
    {
     "name": "stdout",
     "output_type": "stream",
     "text": [
      "racecar is a palindrome\n"
     ]
    }
   ],
   "source": [
    "def is_palindrome(str): \n",
    "    start = 0\n",
    "    end = len(str) - 1\n",
    "    while start <= end:\n",
    "        if str[start] != str[end]:\n",
    "            return False\n",
    "        start += 1\n",
    "        end -= 1\n",
    "    return True\n",
    "str = \"racecar\"\n",
    "if is_palindrome(str):\n",
    "    print(str, \"is a palindrome\")\n",
    "else:\n",
    "    print(str, \"is not a palindrome\")"
   ]
  },
  {
   "cell_type": "markdown",
   "id": "0e95abb4",
   "metadata": {},
   "source": [
    "19. Write a program that generates a random number and allows the user to guess it"
   ]
  },
  {
   "cell_type": "code",
   "execution_count": 33,
   "id": "cbd1139e",
   "metadata": {
    "scrolled": true
   },
   "outputs": [
    {
     "name": "stdout",
     "output_type": "stream",
     "text": [
      "guess a number4\n",
      "your guess is too low bro , try again\n",
      "guess a number6\n",
      "your guess is too low bro , try again\n",
      "guess a number8\n",
      "you gused it !! the number is 8\n"
     ]
    }
   ],
   "source": [
    "import random\n",
    "number=random.randint(1,8)\n",
    "guess= int(input('guess a number'))\n",
    "while guess!= number:\n",
    "    if guess>number:\n",
    "        print('your guess is too high , so bro try again')\n",
    "    else:\n",
    "        print('your guess is too low bro , try again')\n",
    "    guess= int(input('guess a number'))\n",
    "\n",
    "print('you gused it !! the number is',number)\n"
   ]
  },
  {
   "cell_type": "markdown",
   "id": "8e7560b3",
   "metadata": {},
   "source": [
    "20. Write a program that finds the greatest common divisor (GCD) of two numbers"
   ]
  },
  {
   "cell_type": "code",
   "execution_count": 45,
   "id": "d53cf5b9",
   "metadata": {},
   "outputs": [
    {
     "name": "stdout",
     "output_type": "stream",
     "text": [
      "3\n"
     ]
    }
   ],
   "source": [
    "def gcd(a, b):\n",
    "    while b!=0:\n",
    "        a,b = b, a % b\n",
    "    return a\n",
    "print(gcd(15,12))"
   ]
  },
  {
   "cell_type": "code",
   "execution_count": null,
   "id": "efbc7ffd",
   "metadata": {},
   "outputs": [],
   "source": []
  }
 ],
 "metadata": {
  "kernelspec": {
   "display_name": "Python 3 (ipykernel)",
   "language": "python",
   "name": "python3"
  },
  "language_info": {
   "codemirror_mode": {
    "name": "ipython",
    "version": 3
   },
   "file_extension": ".py",
   "mimetype": "text/x-python",
   "name": "python",
   "nbconvert_exporter": "python",
   "pygments_lexer": "ipython3",
   "version": "3.11.5"
  }
 },
 "nbformat": 4,
 "nbformat_minor": 5
}
